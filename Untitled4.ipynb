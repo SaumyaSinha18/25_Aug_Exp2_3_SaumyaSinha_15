{
  "nbformat": 4,
  "nbformat_minor": 0,
  "metadata": {
    "colab": {
      "name": "Untitled4.ipynb",
      "provenance": [],
      "authorship_tag": "ABX9TyPxPmLfdDavWVgMXxyfcQDr",
      "include_colab_link": true
    },
    "kernelspec": {
      "name": "python3",
      "display_name": "Python 3"
    },
    "language_info": {
      "name": "python"
    }
  },
  "cells": [
    {
      "cell_type": "markdown",
      "metadata": {
        "id": "view-in-github",
        "colab_type": "text"
      },
      "source": [
        "<a href=\"https://colab.research.google.com/github/SaumyaSinha18/25_Aug_Exp2_3_SaumyaSinha_15/blob/main/Untitled4.ipynb\" target=\"_parent\"><img src=\"https://colab.research.google.com/assets/colab-badge.svg\" alt=\"Open In Colab\"/></a>"
      ]
    },
    {
      "cell_type": "code",
      "metadata": {
        "id": "FOeGk-jmlQcj"
      },
      "source": [
        "from scipy.optimize import linprog"
      ],
      "execution_count": 1,
      "outputs": []
    },
    {
      "cell_type": "code",
      "metadata": {
        "colab": {
          "base_uri": "https://localhost:8080/"
        },
        "id": "1bsIhs6ll02q",
        "outputId": "499b3500-965d-4bb4-fbc4-908dfe614bfe"
      },
      "source": [
        "c = [-3, -2, -3]\n",
        "A = [[2, 1, 1], [1, 3, 1], [3, 4, 2]]\n",
        "b = [2, 6, 8]\n",
        "x1_bound = (0, None)\n",
        "x2_bound = (0, None)\n",
        "x3_bound = (0, None)\n",
        "res = linprog(c, A_eq = A, b_eq = b, bounds=[x1_bound, x2_bound, x3_bound], method = \"simplex\")\n",
        "print(res)"
      ],
      "execution_count": 2,
      "outputs": [
        {
          "output_type": "stream",
          "name": "stdout",
          "text": [
            "     con: array([0., 0., 0.])\n",
            "     fun: -4.0\n",
            " message: 'Optimization terminated successfully.'\n",
            "     nit: 3\n",
            "   slack: array([], dtype=float64)\n",
            "  status: 0\n",
            " success: True\n",
            "       x: array([0., 2., 0.])\n"
          ]
        },
        {
          "output_type": "stream",
          "name": "stderr",
          "text": [
            "/usr/local/lib/python3.7/dist-packages/ipykernel_launcher.py:7: OptimizeWarning: A_eq does not appear to be of full row rank. To improve performance, check the problem formulation for redundant equality constraints.\n",
            "  import sys\n"
          ]
        }
      ]
    },
    {
      "cell_type": "code",
      "metadata": {
        "colab": {
          "base_uri": "https://localhost:8080/"
        },
        "id": "iVQD8RU1mA_8",
        "outputId": "31dcf6af-e53c-4008-e5df-6b2c3f28b903"
      },
      "source": [
        "c = [3, -4, 3]\n",
        "A = [[5, 6, 2], [1, -3, -5], [2, 5, -4]]\n",
        "b = [5, -8, 4]\n",
        "x1_bound = (0, None)\n",
        "x2_bound = (0, None)\n",
        "x3_bound = (0, None)\n",
        "res = linprog(c, A, b, bounds=[x1_bound, x2_bound, x3_bound], method = \"simplex\")\n",
        "print(res)"
      ],
      "execution_count": 3,
      "outputs": [
        {
          "output_type": "stream",
          "name": "stdout",
          "text": [
            "     con: array([], dtype=float64)\n",
            "     fun: 2.624999999999999\n",
            " message: 'Optimization terminated successfully.'\n",
            "     nit: 3\n",
            "   slack: array([ 0.0000000e+00, -8.8817842e-16,  7.6250000e+00])\n",
            "  status: 0\n",
            " success: True\n",
            "       x: array([0.   , 0.375, 1.375])\n"
          ]
        }
      ]
    },
    {
      "cell_type": "code",
      "metadata": {
        "colab": {
          "base_uri": "https://localhost:8080/"
        },
        "id": "n6Q2vtIbmM7x",
        "outputId": "907a484b-c5b9-4ed6-f1b2-cd5c653fb206"
      },
      "source": [
        "c = [-2, -4, -4, 3]\n",
        "A = [[1, 1, 1, 0], [1, 4, 0,1], [3 , 4, 2, 0]]\n",
        "b = [4, 8, 8]\n",
        "x1_bound = (0, None)\n",
        "x2_bound = (0, None)\n",
        "x3_bound = (0, None)\n",
        "x4_bound = (0, None)\n",
        "res = linprog(c, A_eq = A, b_eq= b, bounds=(x1_bound, x2_bound, x3_bound, x4_bound), method = \"simplex\")\n",
        "print(res)"
      ],
      "execution_count": 4,
      "outputs": [
        {
          "output_type": "stream",
          "name": "stdout",
          "text": [
            "     con: array([0., 0., 0.])\n",
            "     fun: 8.0\n",
            " message: 'Optimization terminated successfully.'\n",
            "     nit: 3\n",
            "   slack: array([], dtype=float64)\n",
            "  status: 0\n",
            " success: True\n",
            "       x: array([0., 0., 4., 8.])\n"
          ]
        }
      ]
    }
  ]
}